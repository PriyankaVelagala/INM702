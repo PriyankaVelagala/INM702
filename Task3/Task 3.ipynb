{
 "cells": [
  {
   "cell_type": "code",
   "execution_count": 27,
   "id": "a4f86c57",
   "metadata": {},
   "outputs": [],
   "source": [
    "#import helper function\n",
    "%run helper_functions.py\n",
    "%run NeuralNetwork.py"
   ]
  },
  {
   "cell_type": "code",
   "execution_count": 12,
   "id": "28fa9484",
   "metadata": {},
   "outputs": [],
   "source": [
    "import tensorflow as tf\n",
    "from matplotlib import pyplot\n",
    "import numpy as np \n",
    "import math \n",
    "import time "
   ]
  },
  {
   "cell_type": "markdown",
   "id": "89eb861a",
   "metadata": {},
   "source": [
    "# Import Data"
   ]
  },
  {
   "cell_type": "code",
   "execution_count": 3,
   "id": "99c080bb",
   "metadata": {},
   "outputs": [
    {
     "name": "stdout",
     "output_type": "stream",
     "text": [
      "X train:  (60000, 784) Y train:  (60000, 10) X test:  (10000, 784) Y_test:  (10000, 10)\n"
     ]
    }
   ],
   "source": [
    "#get data \n",
    "fashion_mnist = tf.keras.datasets.fashion_mnist\n",
    "(X_train, y_train), (X_test, y_test) = fashion_mnist.load_data()    \n",
    "\n",
    "#normalize features \n",
    "X_train, X_test = normalizeX(X_train, X_test)    \n",
    "#OHE target \n",
    "y_train, y_test = oheY(y_train, y_test)\n",
    "    \n",
    "print(\"X train: \", X_train.shape, \"Y train: \",  y_train.shape,  \"X test: \", X_test.shape,  \"Y_test: \", y_test.shape)\n"
   ]
  },
  {
   "cell_type": "markdown",
   "id": "b4c5e145",
   "metadata": {},
   "source": [
    "sample parameters for NN: <br>\n",
    "num_features = 784,  num_classes = 10,  num_neurons = [512, 256, 256, 128, 128, 64],\n",
    " activation_fxn = ['ReLU', 'ReLU', 'ReLU', 'ReLU', 'ReLU', 'ReLU'],  learning_rate = 0.001, epochs = 2, batch_size = 128"
   ]
  },
  {
   "cell_type": "markdown",
   "id": "069afbdf",
   "metadata": {},
   "source": [
    "## 2-layer network"
   ]
  },
  {
   "cell_type": "markdown",
   "id": "988f2dac",
   "metadata": {},
   "source": [
    "## ReLU"
   ]
  },
  {
   "cell_type": "code",
   "execution_count": 8,
   "id": "3d7c7094",
   "metadata": {
    "scrolled": true
   },
   "outputs": [
    {
     "name": "stdout",
     "output_type": "stream",
     "text": [
      "##############################################\n",
      "Number of features: 784 \n",
      "Number of classes: 10 \n",
      "Number of layers: 3 \n",
      "Learning rate 0.1\n",
      "Layer 1 Number of Neurons: 500, Activation Function: ReLU\n",
      "Weight: (500, 784), Bias: (500, 1)\n",
      "Layer 2 Number of Neurons: 300, Activation Function: ReLU\n",
      "Weight: (300, 500), Bias: (300, 1)\n",
      "Layer 3 Number of Neurons: 10, Activation Function: softmax\n",
      "Weight: (10, 300), Bias: (10, 1)\n",
      "##############################################\n",
      "num of batches:  300\n",
      "epoch:  0\n",
      "epoch  0 batch  0 loss:  0.23038557806555032 accuracy:  10.5\n",
      "epoch  0 batch  100 loss:  0.2335244958890184 accuracy:  14.0\n",
      "epoch  0 batch  200 loss:  0.23066766719431833 accuracy:  18.0\n",
      "epoch:  1\n",
      "epoch  1 batch  0 loss:  0.2303345643909273 accuracy:  12.0\n",
      "epoch  1 batch  100 loss:  0.23020572310925227 accuracy:  13.0\n",
      "epoch  1 batch  200 loss:  0.2305769781284751 accuracy:  14.0\n",
      "epoch:  2\n",
      "epoch  2 batch  0 loss:  0.23032299574299483 accuracy:  12.0\n",
      "epoch  2 batch  100 loss:  0.22990715536559855 accuracy:  13.0\n",
      "epoch  2 batch  200 loss:  0.22970973111096327 accuracy:  17.0\n",
      "epoch:  3\n",
      "epoch  3 batch  0 loss:  0.23032848663380873 accuracy:  12.0\n",
      "epoch  3 batch  100 loss:  0.22918965473098318 accuracy:  13.5\n",
      "epoch  3 batch  200 loss:  0.22905029884526695 accuracy:  21.5\n",
      "epoch:  4\n",
      "epoch  4 batch  0 loss:  0.230350419272474 accuracy:  9.0\n",
      "epoch  4 batch  100 loss:  0.22881349006070006 accuracy:  13.0\n",
      "epoch  4 batch  200 loss:  0.22840544879136382 accuracy:  20.5\n",
      "epoch:  5\n",
      "epoch  5 batch  0 loss:  0.23041888617867176 accuracy:  8.0\n",
      "epoch  5 batch  100 loss:  0.22826044779732357 accuracy:  14.0\n",
      "epoch  5 batch  200 loss:  0.22844515154953784 accuracy:  18.5\n",
      "epoch:  6\n",
      "epoch  6 batch  0 loss:  0.23036090086943697 accuracy:  8.5\n",
      "epoch  6 batch  100 loss:  0.2275451008948258 accuracy:  15.5\n",
      "epoch  6 batch  200 loss:  0.22746184702199343 accuracy:  21.0\n",
      "epoch:  7\n",
      "epoch  7 batch  0 loss:  0.2304526104398973 accuracy:  8.5\n",
      "epoch  7 batch  100 loss:  0.22642139630504016 accuracy:  15.5\n",
      "epoch  7 batch  200 loss:  0.22731527824246012 accuracy:  21.5\n",
      "epoch:  8\n",
      "epoch  8 batch  0 loss:  0.2304303328869925 accuracy:  9.0\n",
      "epoch  8 batch  100 loss:  0.22565825652591537 accuracy:  16.0\n",
      "epoch  8 batch  200 loss:  0.22682372134174422 accuracy:  24.0\n",
      "epoch:  9\n",
      "epoch  9 batch  0 loss:  0.23045604590940746 accuracy:  8.5\n",
      "epoch  9 batch  100 loss:  0.22478804326132035 accuracy:  19.0\n",
      "epoch  9 batch  200 loss:  0.22618125566335126 accuracy:  21.5\n",
      "Train accuracy:  14.77 %\n",
      "Test accuracy:  10.33 %\n"
     ]
    }
   ],
   "source": [
    "num_features = 784 \n",
    "num_classes = 10\n",
    "num_neurons = [500, 300]\n",
    "activation_fxn = ['ReLU', 'ReLU']\n",
    "learning_rate = 0.1\n",
    "epochs = 10\n",
    "batch_size = 200\n",
    "\n",
    "\n",
    "myNN = NeuralNetwork(num_features, num_classes, num_neurons, activation_fxn, learning_rate, epochs, batch_size  )\n",
    "myNN.train(X_train, y_train)\n",
    "t_accuracy = myNN.predict(X_test, y_test)\n",
    "print(\"Test accuracy: \", t_accuracy, \"%\")\n"
   ]
  },
  {
   "cell_type": "markdown",
   "id": "22832756",
   "metadata": {},
   "source": [
    "## Sigmoid"
   ]
  },
  {
   "cell_type": "code",
   "execution_count": 29,
   "id": "bfd521be",
   "metadata": {
    "scrolled": true
   },
   "outputs": [
    {
     "name": "stdout",
     "output_type": "stream",
     "text": [
      "##############################################\n",
      "Number of features: 784 \n",
      "Number of classes: 10 \n",
      "Number of layers: 3 \n",
      "Learning rate 0.1\n",
      "Layer 1 Number of Neurons: 500, Activation Function: sigmoid\n",
      "Weight: (500, 784), Bias: (500, 1)\n",
      "Layer 2 Number of Neurons: 300, Activation Function: sigmoid\n",
      "Weight: (300, 500), Bias: (300, 1)\n",
      "Layer 3 Number of Neurons: 10, Activation Function: softmax\n",
      "Weight: (10, 300), Bias: (10, 1)\n",
      "##############################################\n",
      "num of batches:  300\n",
      "epoch  0 batch  0 loss:  0.27773431475426624 accuracy:  10.5\n",
      "epoch  0 batch  100 loss:  0.2355061446983658 accuracy:  15.0\n",
      "epoch  0 batch  200 loss:  0.23384706366759805 accuracy:  13.5\n",
      "epoch  1 batch  0 loss:  0.23191493639222113 accuracy:  13.0\n",
      "epoch  1 batch  100 loss:  0.23225108963160362 accuracy:  17.0\n",
      "epoch  1 batch  200 loss:  0.23242190505471508 accuracy:  10.5\n",
      "epoch  2 batch  0 loss:  0.23153531571757005 accuracy:  13.0\n",
      "epoch  2 batch  100 loss:  0.23133423543609938 accuracy:  17.0\n",
      "epoch  2 batch  200 loss:  0.23160477250208725 accuracy:  13.0\n",
      "epoch  3 batch  0 loss:  0.23127304118868797 accuracy:  13.0\n",
      "epoch  3 batch  100 loss:  0.230995840963246 accuracy:  15.5\n",
      "epoch  3 batch  200 loss:  0.2310696265930564 accuracy:  13.0\n",
      "epoch  4 batch  0 loss:  0.2311094283708631 accuracy:  13.0\n",
      "epoch  4 batch  100 loss:  0.23086259135056314 accuracy:  15.5\n",
      "epoch  4 batch  200 loss:  0.2306878122224077 accuracy:  13.0\n",
      "epoch  5 batch  0 loss:  0.2310071460011729 accuracy:  13.0\n",
      "epoch  5 batch  100 loss:  0.23079527672790964 accuracy:  16.5\n",
      "epoch  5 batch  200 loss:  0.2304258996211731 accuracy:  12.5\n",
      "epoch  6 batch  0 loss:  0.23094385742540574 accuracy:  13.0\n",
      "epoch  6 batch  100 loss:  0.23073042024056614 accuracy:  16.0\n",
      "epoch  6 batch  200 loss:  0.2302450805354485 accuracy:  12.5\n",
      "epoch  7 batch  0 loss:  0.23090325973139084 accuracy:  13.0\n",
      "epoch  7 batch  100 loss:  0.23065957619807287 accuracy:  15.0\n",
      "epoch  7 batch  200 loss:  0.23010758650219648 accuracy:  11.5\n",
      "epoch  8 batch  0 loss:  0.2308730877770999 accuracy:  13.0\n",
      "epoch  8 batch  100 loss:  0.23058627506079865 accuracy:  14.0\n",
      "epoch  8 batch  200 loss:  0.2299849671095549 accuracy:  12.0\n",
      "epoch  9 batch  0 loss:  0.23084712359267456 accuracy:  13.0\n",
      "epoch  9 batch  100 loss:  0.23051680081567746 accuracy:  14.5\n",
      "epoch  9 batch  200 loss:  0.2298622925677021 accuracy:  12.0\n",
      "Train accuracy:  11.33 %\n",
      "Test accuracy:  9.75 %\n"
     ]
    }
   ],
   "source": [
    "num_features = 784 \n",
    "num_classes = 10\n",
    "num_neurons = [500, 300]\n",
    "activation_fxn = ['sigmoid', 'sigmoid']\n",
    "learning_rate = 0.1\n",
    "epochs = 10\n",
    "batch_size = 200\n",
    "\n",
    "\n",
    "myNN = NeuralNetwork(num_features, num_classes, num_neurons, activation_fxn, learning_rate, epochs, batch_size  )\n",
    "myNN.train(X_train, y_train)\n",
    "t_accuracy = myNN.predict(X_test, y_test)\n",
    "print(\"Test accuracy: \", t_accuracy, \"%\")\n"
   ]
  },
  {
   "cell_type": "code",
   "execution_count": 30,
   "id": "0d680cc4",
   "metadata": {},
   "outputs": [
    {
     "name": "stdout",
     "output_type": "stream",
     "text": [
      "total:  10000\n",
      "[2 2 2 2 2 2 2 2 2 2 2 2 2 2 2 2 2 2 2 2 2 2 2 2 2 2 2 2 2 2]\n",
      "[9 2 1 1 6 1 4 6 5 7 4 5 7 3 4 1 2 4 8 0 2 5 7 9 1 4 6 0 9 3]\n",
      "correct: 975\n"
     ]
    }
   ],
   "source": [
    "t_accuracy = myNN.predictwithOutput(X_test, y_test)"
   ]
  },
  {
   "cell_type": "markdown",
   "id": "67b6b13b",
   "metadata": {},
   "source": [
    "## Increase Number of layers"
   ]
  },
  {
   "cell_type": "code",
   "execution_count": 18,
   "id": "e5087217",
   "metadata": {},
   "outputs": [
    {
     "name": "stdout",
     "output_type": "stream",
     "text": [
      "##############################################\n",
      "Number of features: 784 \n",
      "Number of classes: 10 \n",
      "Number of layers: 6 \n",
      "Learning rate 0.001\n",
      "Layer 1 Number of Neurons: 512, Activation Function: ReLU\n",
      "Weight: (512, 784), Bias: (512, 1)\n",
      "Layer 2 Number of Neurons: 256, Activation Function: ReLU\n",
      "Weight: (256, 512), Bias: (256, 1)\n",
      "Layer 3 Number of Neurons: 128, Activation Function: ReLU\n",
      "Weight: (128, 256), Bias: (128, 1)\n",
      "Layer 4 Number of Neurons: 64, Activation Function: ReLU\n",
      "Weight: (64, 128), Bias: (64, 1)\n",
      "Layer 5 Number of Neurons: 32, Activation Function: ReLU\n",
      "Weight: (32, 64), Bias: (32, 1)\n",
      "Layer 6 Number of Neurons: 10, Activation Function: softmax\n",
      "Weight: (10, 32), Bias: (10, 1)\n",
      "##############################################\n",
      "num of batches:  469\n",
      "epoch:  0\n",
      "epoch  0 batch  0 loss:  0.2302523749482639 accuracy:  7.81\n",
      "epoch  0 batch  100 loss:  0.23097788359367527 accuracy:  7.81\n",
      "epoch  0 batch  200 loss:  0.23414196853127095 accuracy:  8.59\n",
      "epoch  0 batch  300 loss:  0.23202303492431314 accuracy:  10.16\n",
      "epoch  0 batch  400 loss:  0.2291723724474613 accuracy:  7.03\n",
      "epoch:  1\n",
      "epoch  1 batch  0 loss:  0.23031369325276008 accuracy:  7.81\n",
      "epoch  1 batch  100 loss:  0.23067556861349753 accuracy:  7.03\n",
      "epoch  1 batch  200 loss:  0.23228496676713145 accuracy:  5.47\n",
      "epoch  1 batch  300 loss:  0.23141532575256143 accuracy:  13.28\n",
      "epoch  1 batch  400 loss:  0.22946265552695197 accuracy:  7.03\n",
      "epoch:  2\n",
      "epoch  2 batch  0 loss:  0.23031316839144153 accuracy:  7.81\n",
      "epoch  2 batch  100 loss:  0.23049554335542485 accuracy:  9.38\n",
      "epoch  2 batch  200 loss:  0.23170886715637745 accuracy:  6.25\n",
      "epoch  2 batch  300 loss:  0.2311309782159406 accuracy:  14.84\n",
      "epoch  2 batch  400 loss:  0.22965692836016402 accuracy:  7.81\n",
      "epoch:  3\n",
      "epoch  3 batch  0 loss:  0.2303066806517239 accuracy:  7.81\n",
      "epoch  3 batch  100 loss:  0.23042454376862503 accuracy:  10.94\n",
      "epoch  3 batch  200 loss:  0.2314200596564861 accuracy:  7.03\n",
      "epoch  3 batch  300 loss:  0.23081365283115138 accuracy:  14.84\n",
      "epoch  3 batch  400 loss:  0.22979527071010483 accuracy:  7.03\n",
      "epoch:  4\n",
      "epoch  4 batch  0 loss:  0.23029586054206536 accuracy:  7.81\n",
      "epoch  4 batch  100 loss:  0.23039331112420927 accuracy:  10.94\n",
      "epoch  4 batch  200 loss:  0.23117621861631985 accuracy:  7.81\n",
      "epoch  4 batch  300 loss:  0.2305879743190037 accuracy:  14.84\n",
      "epoch  4 batch  400 loss:  0.22990796172530895 accuracy:  8.59\n",
      "epoch:  5\n",
      "epoch  5 batch  0 loss:  0.23028030591353002 accuracy:  7.81\n",
      "epoch  5 batch  100 loss:  0.23037955083050105 accuracy:  10.94\n",
      "epoch  5 batch  200 loss:  0.23100308345224424 accuracy:  10.16\n",
      "epoch  5 batch  300 loss:  0.23050250713441756 accuracy:  12.5\n",
      "epoch  5 batch  400 loss:  0.22998376880627353 accuracy:  7.03\n",
      "epoch:  6\n",
      "epoch  6 batch  0 loss:  0.23026986464995164 accuracy:  7.81\n",
      "epoch  6 batch  100 loss:  0.23034219343763204 accuracy:  13.28\n",
      "epoch  6 batch  200 loss:  0.23090668438967726 accuracy:  9.38\n",
      "epoch  6 batch  300 loss:  0.23045014581607615 accuracy:  10.16\n",
      "epoch  6 batch  400 loss:  0.23004581732911022 accuracy:  7.03\n",
      "epoch:  7\n",
      "epoch  7 batch  0 loss:  0.2302698556229778 accuracy:  7.81\n",
      "epoch  7 batch  100 loss:  0.23032822696023275 accuracy:  11.72\n",
      "epoch  7 batch  200 loss:  0.2308353864752978 accuracy:  11.72\n",
      "epoch  7 batch  300 loss:  0.23038728143312967 accuracy:  11.72\n",
      "epoch  7 batch  400 loss:  0.23006337817602854 accuracy:  6.25\n",
      "epoch:  8\n",
      "epoch  8 batch  0 loss:  0.2302769039731032 accuracy:  7.81\n",
      "epoch  8 batch  100 loss:  0.23029931238362505 accuracy:  10.16\n",
      "epoch  8 batch  200 loss:  0.23073839266236953 accuracy:  10.94\n",
      "epoch  8 batch  300 loss:  0.23036042537432047 accuracy:  10.94\n",
      "epoch  8 batch  400 loss:  0.23006470520679345 accuracy:  7.81\n",
      "epoch:  9\n",
      "epoch  9 batch  0 loss:  0.2302841287800907 accuracy:  7.81\n",
      "epoch  9 batch  100 loss:  0.2302580315304643 accuracy:  12.5\n",
      "epoch  9 batch  200 loss:  0.230663190721942 accuracy:  10.16\n",
      "epoch  9 batch  300 loss:  0.23034611574958483 accuracy:  10.16\n",
      "epoch  9 batch  400 loss:  0.23006423828712866 accuracy:  7.81\n",
      "Train accuracy:  10.43 %\n",
      "Test accuracy:  9.76 %\n"
     ]
    }
   ],
   "source": [
    "num_features = 784\n",
    "num_classes = 10\n",
    "num_neurons = [512, 256, 128, 64, 32]\n",
    "activation_fxn = ['ReLU', 'ReLU', 'ReLU', 'ReLU', 'ReLU']\n",
    "learning_rate = 0.001\n",
    "epochs = 10\n",
    "batch_size = 128\n",
    "\n",
    "myNN = NeuralNetwork(num_features, num_classes, num_neurons, activation_fxn, learning_rate, epochs, batch_size  )\n",
    "myNN.train(X_train, y_train)\n",
    "t_accuracy = myNN.predict(X_test, y_test)\n",
    "print(\"Test accuracy: \", t_accuracy, \"%\")\n"
   ]
  },
  {
   "cell_type": "code",
   "execution_count": 19,
   "id": "65f534ee",
   "metadata": {},
   "outputs": [
    {
     "name": "stdout",
     "output_type": "stream",
     "text": [
      "##############################################\n",
      "Number of features: 784 \n",
      "Number of classes: 10 \n",
      "Number of layers: 6 \n",
      "Learning rate 0.001\n",
      "Layer 1 Number of Neurons: 1024, Activation Function: ReLU\n",
      "Weight: (1024, 784), Bias: (1024, 1)\n",
      "Layer 2 Number of Neurons: 512, Activation Function: ReLU\n",
      "Weight: (512, 1024), Bias: (512, 1)\n",
      "Layer 3 Number of Neurons: 256, Activation Function: ReLU\n",
      "Weight: (256, 512), Bias: (256, 1)\n",
      "Layer 4 Number of Neurons: 128, Activation Function: ReLU\n",
      "Weight: (128, 256), Bias: (128, 1)\n",
      "Layer 5 Number of Neurons: 64, Activation Function: ReLU\n",
      "Weight: (64, 128), Bias: (64, 1)\n",
      "Layer 6 Number of Neurons: 10, Activation Function: softmax\n",
      "Weight: (10, 64), Bias: (10, 1)\n",
      "##############################################\n",
      "num of batches:  469\n",
      "epoch:  0\n",
      "epoch  0 batch  0 loss:  0.23018873982634674 accuracy:  9.38\n",
      "epoch  0 batch  100 loss:  0.235272978084049 accuracy:  7.03\n",
      "epoch  0 batch  200 loss:  0.24263616699297338 accuracy:  16.41\n",
      "epoch  0 batch  300 loss:  0.24194842515375647 accuracy:  11.72\n",
      "epoch  0 batch  400 loss:  0.23805474189114956 accuracy:  8.59\n",
      "epoch:  1\n",
      "epoch  1 batch  0 loss:  0.2302040716359012 accuracy:  6.25\n",
      "epoch  1 batch  100 loss:  0.23059233492628578 accuracy:  12.5\n",
      "epoch  1 batch  200 loss:  0.23619642423824766 accuracy:  10.94\n",
      "epoch  1 batch  300 loss:  0.23743695678974702 accuracy:  13.28\n",
      "epoch  1 batch  400 loss:  0.23373210078959666 accuracy:  10.94\n",
      "epoch:  2\n",
      "epoch  2 batch  0 loss:  0.23016698764514293 accuracy:  12.5\n",
      "epoch  2 batch  100 loss:  0.23046426181466528 accuracy:  9.38\n",
      "epoch  2 batch  200 loss:  0.23548899929445205 accuracy:  11.72\n",
      "epoch  2 batch  300 loss:  0.2359004630390748 accuracy:  9.38\n",
      "epoch  2 batch  400 loss:  0.23188985068903678 accuracy:  10.94\n",
      "epoch:  3\n",
      "epoch  3 batch  0 loss:  0.23023342168170133 accuracy:  11.72\n",
      "epoch  3 batch  100 loss:  0.23059143060935625 accuracy:  7.81\n",
      "epoch  3 batch  200 loss:  0.23414600796600676 accuracy:  10.16\n",
      "epoch  3 batch  300 loss:  0.23463925477833242 accuracy:  8.59\n",
      "epoch  3 batch  400 loss:  0.23097809226670618 accuracy:  12.5\n",
      "epoch:  4\n",
      "epoch  4 batch  0 loss:  0.23023822220706197 accuracy:  11.72\n",
      "epoch  4 batch  100 loss:  0.23085875504892445 accuracy:  7.81\n",
      "epoch  4 batch  200 loss:  0.2330765584050316 accuracy:  7.81\n",
      "epoch  4 batch  300 loss:  0.2336701674351495 accuracy:  7.81\n",
      "epoch  4 batch  400 loss:  0.23050516845649321 accuracy:  14.06\n",
      "epoch:  5\n",
      "epoch  5 batch  0 loss:  0.23022197863350352 accuracy:  12.5\n",
      "epoch  5 batch  100 loss:  0.2308870989970468 accuracy:  7.81\n",
      "epoch  5 batch  200 loss:  0.23271299535162435 accuracy:  10.94\n",
      "epoch  5 batch  300 loss:  0.23292859270987715 accuracy:  8.59\n",
      "epoch  5 batch  400 loss:  0.23018804883946986 accuracy:  13.28\n",
      "epoch:  6\n",
      "epoch  6 batch  0 loss:  0.23021890332936454 accuracy:  10.94\n",
      "epoch  6 batch  100 loss:  0.23087514860296712 accuracy:  9.38\n",
      "epoch  6 batch  200 loss:  0.23253139371383727 accuracy:  10.94\n",
      "epoch  6 batch  300 loss:  0.23256199587311444 accuracy:  9.38\n",
      "epoch  6 batch  400 loss:  0.22982264569908434 accuracy:  13.28\n",
      "epoch:  7\n",
      "epoch  7 batch  0 loss:  0.23022236610895916 accuracy:  10.94\n",
      "epoch  7 batch  100 loss:  0.230855491910451 accuracy:  8.59\n",
      "epoch  7 batch  200 loss:  0.2324081628941296 accuracy:  10.94\n",
      "epoch  7 batch  300 loss:  0.23233817163850992 accuracy:  10.16\n",
      "epoch  7 batch  400 loss:  0.22961521982207792 accuracy:  14.84\n",
      "epoch:  8\n",
      "epoch  8 batch  0 loss:  0.23021919296616317 accuracy:  10.94\n",
      "epoch  8 batch  100 loss:  0.23080186063460612 accuracy:  6.25\n",
      "epoch  8 batch  200 loss:  0.2323124961283789 accuracy:  10.16\n",
      "epoch  8 batch  300 loss:  0.23217243078973387 accuracy:  8.59\n",
      "epoch  8 batch  400 loss:  0.22946076907259938 accuracy:  14.84\n",
      "epoch:  9\n",
      "epoch  9 batch  0 loss:  0.23021687226390294 accuracy:  10.16\n",
      "epoch  9 batch  100 loss:  0.23077587791519444 accuracy:  6.25\n",
      "epoch  9 batch  200 loss:  0.2321600118641455 accuracy:  10.94\n",
      "epoch  9 batch  300 loss:  0.23202183955340744 accuracy:  9.38\n",
      "epoch  9 batch  400 loss:  0.2293335019458118 accuracy:  14.06\n",
      "Train accuracy:  10.83 %\n",
      "Test accuracy:  9.49 %\n"
     ]
    }
   ],
   "source": [
    "num_features = 784\n",
    "num_classes = 10\n",
    "num_neurons = [1024, 512, 256, 128, 64]\n",
    "activation_fxn = ['ReLU', 'ReLU', 'ReLU', 'ReLU', 'ReLU']\n",
    "learning_rate = 0.001\n",
    "epochs = 10\n",
    "batch_size = 128\n",
    "\n",
    "myNN = NeuralNetwork(num_features, num_classes, num_neurons, activation_fxn, learning_rate, epochs, batch_size  )\n",
    "myNN.train(X_train, y_train)\n",
    "t_accuracy = myNN.predict(X_test, y_test)\n",
    "print(\"Test accuracy: \", t_accuracy, \"%\")\n"
   ]
  },
  {
   "cell_type": "code",
   "execution_count": 24,
   "id": "4f26f4af",
   "metadata": {},
   "outputs": [
    {
     "name": "stdout",
     "output_type": "stream",
     "text": [
      "##############################################\n",
      "Number of features: 784 \n",
      "Number of classes: 10 \n",
      "Number of layers: 4 \n",
      "Learning rate 0.01\n",
      "Layer 1 Number of Neurons: 100, Activation Function: ReLU\n",
      "Weight: (100, 784), Bias: (100, 1)\n",
      "Layer 2 Number of Neurons: 50, Activation Function: sigmoid\n",
      "Weight: (50, 100), Bias: (50, 1)\n",
      "Layer 3 Number of Neurons: 25, Activation Function: ReLU\n",
      "Weight: (25, 50), Bias: (25, 1)\n",
      "Layer 4 Number of Neurons: 10, Activation Function: softmax\n",
      "Weight: (10, 25), Bias: (10, 1)\n",
      "##############################################\n",
      "num of batches:  300\n",
      "epoch  0 batch  0 loss:  0.23032785304492318 accuracy:  8.0\n",
      "epoch  0 batch  100 loss:  0.23028085062867093 accuracy:  11.0\n",
      "epoch  0 batch  200 loss:  0.2302400771357526 accuracy:  9.5\n",
      "epoch  1 batch  0 loss:  0.2302708608664011 accuracy:  9.0\n",
      "epoch  1 batch  100 loss:  0.23023282378070736 accuracy:  10.0\n",
      "epoch  1 batch  200 loss:  0.23039010962417106 accuracy:  7.0\n",
      "epoch  2 batch  0 loss:  0.23022308203043015 accuracy:  9.5\n",
      "epoch  2 batch  100 loss:  0.23012917968756927 accuracy:  11.0\n",
      "epoch  2 batch  200 loss:  0.23030352009390498 accuracy:  11.0\n",
      "epoch  3 batch  0 loss:  0.23028800241028966 accuracy:  8.0\n",
      "epoch  3 batch  100 loss:  0.2301236889195496 accuracy:  11.0\n",
      "epoch  3 batch  200 loss:  0.23024921574689608 accuracy:  10.5\n",
      "epoch  4 batch  0 loss:  0.23028558098297672 accuracy:  9.5\n",
      "epoch  4 batch  100 loss:  0.2301164799526001 accuracy:  12.5\n",
      "epoch  4 batch  200 loss:  0.23022496589309935 accuracy:  11.5\n",
      "Train accuracy:  10.05 %\n",
      "Test accuracy:  9.91 %\n"
     ]
    }
   ],
   "source": [
    "num_features = 784\n",
    "num_classes = 10\n",
    "num_neurons = [100, 50, 25]\n",
    "activation_fxn = ['ReLU', 'sigmoid', 'ReLU']\n",
    "learning_rate = 0.01\n",
    "epochs = 5\n",
    "batch_size = 200\n",
    "\n",
    "myNN = NeuralNetwork(num_features, num_classes, num_neurons, activation_fxn, learning_rate, epochs, batch_size  )\n",
    "myNN.train(X_train, y_train)\n",
    "t_accuracy = myNN.predict(X_test, y_test)\n",
    "print(\"Test accuracy: \", t_accuracy, \"%\")"
   ]
  },
  {
   "cell_type": "code",
   "execution_count": 28,
   "id": "d3f41193",
   "metadata": {},
   "outputs": [
    {
     "name": "stdout",
     "output_type": "stream",
     "text": [
      "total:  10000\n",
      "[9 9 9 9 9 9 9 9 9 9]\n",
      "[9 2 1 1 6 1 4 6 5 7]\n",
      "correct: 991\n"
     ]
    }
   ],
   "source": [
    "t_accuracy = myNN.predictwithOutput(X_test, y_test)\n"
   ]
  }
 ],
 "metadata": {
  "kernelspec": {
   "display_name": "Python 3",
   "language": "python",
   "name": "python3"
  },
  "language_info": {
   "codemirror_mode": {
    "name": "ipython",
    "version": 3
   },
   "file_extension": ".py",
   "mimetype": "text/x-python",
   "name": "python",
   "nbconvert_exporter": "python",
   "pygments_lexer": "ipython3",
   "version": "3.8.8"
  }
 },
 "nbformat": 4,
 "nbformat_minor": 5
}
